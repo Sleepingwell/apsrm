{
 "cells": [
  {
   "cell_type": "markdown",
   "id": "d1a98323",
   "metadata": {},
   "source": [
    "# A Repeat of The Analyses Done in Phase 1 Using Eveleigh\n",
    "\n",
    "This presents a very similar analysis to the one done on our very simple office in the first phase of the project, mainly for interest of comparison.\n",
    "\n",
    "All analyses prested here are conducted on a workplace with no HVAC and no air exchange between rooms."
   ]
  },
  {
   "cell_type": "markdown",
   "id": "86265efd",
   "metadata": {},
   "source": [
    "## Imports"
   ]
  },
  {
   "cell_type": "code",
   "execution_count": null,
   "id": "ebd5b8c6",
   "metadata": {},
   "outputs": [],
   "source": [
    "import os\n",
    "import pickle\n",
    "from itertools import repeat\n",
    "from multiprocessing import Pool\n",
    "import numpy as np\n",
    "import pandas as pd\n",
    "from pandas.api.types import CategoricalDtype\n",
    "import matplotlib.pyplot as plt\n",
    "from tqdm.notebook import tqdm\n",
    "from apsrm import PCRTest, Person, Box\n",
    "from apsrm.config import POOL_NCORES, DEFAULT_STRAIN\n",
    "from apsrm.ext.multiprocessing import ProcessSeeder\n",
    "from apsrm.ext.simulation import (\n",
    "    create_pathogen,\n",
    "    run_simulation,\n",
    "    generate_means_tables,\n",
    "    plot_histograms)\n",
    "from utils import (\n",
    "    create_workplace,\n",
    "    create_emissions_calculator)\n",
    "\n",
    "pathogen_name = DEFAULT_STRAIN\n",
    "\n",
    "OUTPUT_BASE_DIR = '../../outputs/eveleigh'\n",
    "OUTPUT_BASE_DIR = OUTPUT_BASE_DIR if os.path.exists(OUTPUT_BASE_DIR) else '.'\n",
    "OUTPUT_PREFIX = pathogen_name\n",
    "def opath(p): return os.path.join(OUTPUT_BASE_DIR, '{}_{}'.format(OUTPUT_PREFIX, p))\n",
    "\n",
    "results_pickle = os.path.join(OUTPUT_BASE_DIR, 'all_results.pkl')\n",
    "run_analysis = not os.path.exists(results_pickle)\n",
    "process_seeder = ProcessSeeder()\n",
    "\n",
    "def run_job(workplace, runner, R, intervention_name):\n",
    "    if run_analysis:    \n",
    "        process_seeder.reset()\n",
    "        with Pool(POOL_NCORES, initializer=process_seeder) as pool:\n",
    "            work = pool.imap_unordered(runner, range(R))\n",
    "            return pd.DataFrame(tqdm(work, total=R)).assign(intervention=intervention_name), intervention_name\n",
    "\n",
    "def no_reset_standard_runner(*args):\n",
    "    return run_simulation(workplace, pathogen, emissions_calculator, pcrtest)\n",
    "\n",
    "def standard_runner(*args):\n",
    "    workplace.reset(full=True)\n",
    "    return no_reset_standard_runner(*args)\n",
    "\n",
    "def poc_runner(*args):\n",
    "    workplace.reset(full=True)\n",
    "    return run_simulation(workplace, pathogen, emissions_calculator, pcrtest, testing_fraction)"
   ]
  },
  {
   "cell_type": "markdown",
   "id": "d6c1f407",
   "metadata": {},
   "source": [
    "## Basic Parameters"
   ]
  },
  {
   "cell_type": "code",
   "execution_count": null,
   "id": "4a025729",
   "metadata": {},
   "outputs": [],
   "source": [
    "R = 10000\n",
    "inter_box_acph = 1.\n",
    "\n",
    "testing_fraction = 1.\n",
    "mask_efficiency = .8\n",
    "external_acph = 1.\n",
    "hvac_acph = 7.\n",
    "inter_box_acph = 1.\n",
    "intervention_external_acph = 7.\n",
    "hvac_return_filtering_efficiency = .85\n",
    "air_cleaner_filtering_efficiency = .95,\n",
    "air_cleaner_filtering_volume = 350.\n",
    "\n",
    "\n",
    "pathogen = create_pathogen(pathogen_name)\n",
    "emissions_calculator = create_emissions_calculator(pathogen)\n",
    "pcrtest = PCRTest()\n",
    "\n",
    "workplace = create_workplace(\n",
    "    hvac_acph = hvac_acph,\n",
    "    inter_box_acph = inter_box_acph,\n",
    "    external_acph = external_acph)"
   ]
  },
  {
   "cell_type": "markdown",
   "id": "73aa8f2a",
   "metadata": {},
   "source": [
    "## Simulations"
   ]
  },
  {
   "cell_type": "markdown",
   "id": "c810e193",
   "metadata": {},
   "source": [
    "### BAU"
   ]
  },
  {
   "cell_type": "code",
   "execution_count": null,
   "id": "ba1a4655",
   "metadata": {},
   "outputs": [],
   "source": [
    "results_bau = run_job(workplace, standard_runner, R, 'BAU')"
   ]
  },
  {
   "cell_type": "markdown",
   "id": "30fbf6cc",
   "metadata": {},
   "source": [
    "### Efect of Masks\n",
    "\n",
    "Masks are assumed to be 80% effective at preventing the wearer from becoming infected and reduces the infectivity of infected by the same amount."
   ]
  },
  {
   "cell_type": "code",
   "execution_count": null,
   "id": "120e85b9",
   "metadata": {
    "scrolled": false
   },
   "outputs": [],
   "source": [
    "Person.ingestion_filter_efficiency = mask_efficiency\n",
    "Person.shedding_filter_efficiency = mask_efficiency\n",
    "results_masks = run_job(workplace, standard_runner, R, 'Masks Only')\n",
    "Person.ingestion_filter_efficiency = 0.\n",
    "Person.shedding_filter_efficiency = 0."
   ]
  },
  {
   "cell_type": "markdown",
   "id": "23c170e5",
   "metadata": {},
   "source": [
    "### Effect of Random Testing\n",
    "\n",
    "Note the dramatic change in the time until detection. This has potentially large bearing on the risk in the broader community."
   ]
  },
  {
   "cell_type": "code",
   "execution_count": null,
   "id": "0c6a40aa",
   "metadata": {},
   "outputs": [],
   "source": [
    "results_testing = run_job(workplace, poc_runner, R, 'Testing Only')"
   ]
  },
  {
   "cell_type": "markdown",
   "id": "ef1dc1f0",
   "metadata": {},
   "source": [
    "### Effect of Random Testing and Masks"
   ]
  },
  {
   "cell_type": "code",
   "execution_count": null,
   "id": "2ec8045e",
   "metadata": {},
   "outputs": [],
   "source": [
    "Person.ingestion_filter_efficiency = mask_efficiency\n",
    "Person.shedding_filter_efficiency = mask_efficiency\n",
    "results_testing_and_masks = run_job(workplace, poc_runner, R, 'Masks and Testing')\n",
    "Person.ingestion_filter_efficiency = 0.\n",
    "Person.shedding_filter_efficiency = 0."
   ]
  },
  {
   "cell_type": "markdown",
   "id": "8110c854",
   "metadata": {},
   "source": [
    "### Don't Allow Meetings"
   ]
  },
  {
   "cell_type": "code",
   "execution_count": null,
   "id": "6dc4b68c",
   "metadata": {},
   "outputs": [],
   "source": [
    "workplace_generators = workplace._generators\n",
    "workplace._generators = set()\n",
    "results_no_meetings = run_job(workplace, standard_runner, R, 'No Meetings')\n",
    "workplace._generators = workplace_generators"
   ]
  },
  {
   "cell_type": "markdown",
   "id": "ab85128b",
   "metadata": {},
   "source": [
    "### Vaccinate Everyone in the Last Six Months"
   ]
  },
  {
   "cell_type": "code",
   "execution_count": null,
   "id": "2e6a2cf9",
   "metadata": {},
   "outputs": [],
   "source": [
    "from apsrm import Vaccine\n",
    "vaccine = Vaccine()\n",
    "def vaccinator(r):\n",
    "    workplace.reset(full=True)\n",
    "    for person, time in zip(workplace.persons, np.random.randint(-180, 0, size=len(workplace.persons))):\n",
    "        person.vaccinate(time, vaccine)\n",
    "    return no_reset_standard_runner(r)\n",
    "results_vaccinate = run_job(workplace, vaccinator, R, 'Vaccinations')"
   ]
  },
  {
   "cell_type": "markdown",
   "id": "cfabccb2",
   "metadata": {},
   "source": [
    "### Increase Ventilation\n",
    "\n",
    "Increase air exchange with the outside world."
   ]
  },
  {
   "cell_type": "code",
   "execution_count": null,
   "id": "fbffcd28",
   "metadata": {
    "scrolled": false
   },
   "outputs": [],
   "source": [
    "workplace = create_workplace(\n",
    "    hvac_acph = hvac_acph,\n",
    "    inter_box_acph = inter_box_acph,\n",
    "    external_acph = intervention_external_acph)\n",
    "results_ventilation = run_job(workplace, standard_runner, R, 'Increased Ventilation')"
   ]
  },
  {
   "cell_type": "markdown",
   "id": "118fbc46",
   "metadata": {},
   "source": [
    "### HVAC Return Air Filters With 80% Efficiency "
   ]
  },
  {
   "cell_type": "code",
   "execution_count": null,
   "id": "10481dcf",
   "metadata": {},
   "outputs": [],
   "source": [
    "workplace = create_workplace(\n",
    "    hvac_acph = hvac_acph,\n",
    "    inter_box_acph = inter_box_acph,\n",
    "    hvac_return_filtering_efficiency = hvac_return_filtering_efficiency)\n",
    "results_hvac_return = run_job(workplace, standard_runner, R, 'HVAC Filters')"
   ]
  },
  {
   "cell_type": "markdown",
   "id": "03ee6f7c",
   "metadata": {},
   "source": [
    "### Portable Air Filter With 95% Efficiency\n",
    "\n",
    "Volume from https://pursuit.unimelb.edu.au/articles/which-air-cleaners-work-best-to-remove-aerosols-that-contain-viruses"
   ]
  },
  {
   "cell_type": "code",
   "execution_count": null,
   "id": "c02ed53d",
   "metadata": {},
   "outputs": [],
   "source": [
    "workplace = create_workplace(\n",
    "    hvac_acph = hvac_acph,\n",
    "    inter_box_acph = inter_box_acph,\n",
    "    air_cleaner_filtering_efficiency = air_cleaner_filtering_efficiency,\n",
    "    air_cleaner_filtering_volume = air_cleaner_filtering_volume)\n",
    "results_portable_filters = run_job(workplace, standard_runner, R, 'Portable Filters')"
   ]
  },
  {
   "cell_type": "code",
   "execution_count": null,
   "id": "33f7b562",
   "metadata": {},
   "outputs": [],
   "source": [
    "if run_analysis:        \n",
    "    all_results = (\n",
    "        results_bau,\n",
    "        results_masks,\n",
    "        results_testing,\n",
    "        results_testing_and_masks,\n",
    "        results_no_meetings,\n",
    "        results_vaccinate,\n",
    "        results_ventilation,\n",
    "        results_hvac_return,\n",
    "        results_portable_filters)\n",
    "    \n",
    "    with open(results_pickle, 'wb') as pkl:\n",
    "        pickle.dump((all_results, R), pkl)\n",
    "        \n",
    "else:\n",
    "    with open(results_pickle, 'rb') as pkl:\n",
    "        all_results, R = pickle.load(pkl)\n",
    "\n",
    "infection_counts = pd.concat([r[0] for r in all_results])\n",
    "dt = CategoricalDtype(categories=[r[1] for r in all_results], ordered=True)\n",
    "infection_counts['intervention'] = infection_counts['intervention'].astype(dt)"
   ]
  },
  {
   "cell_type": "markdown",
   "id": "58dd752e",
   "metadata": {},
   "source": [
    "## Plots and Tables"
   ]
  },
  {
   "cell_type": "code",
   "execution_count": null,
   "id": "cb135bc8",
   "metadata": {},
   "outputs": [],
   "source": [
    "import matplotlib.font_manager as font_manager\n",
    "\n",
    "# Add every font at the specified location\n",
    "font_dir = ['../fnt']\n",
    "for font in font_manager.findSystemFonts(font_dir):\n",
    "    font_manager.fontManager.addfont(font)\n",
    "\n",
    "# Set font family globally\n",
    "plt.rcParams['font.family'] = 'Palatino'"
   ]
  },
  {
   "cell_type": "code",
   "execution_count": null,
   "id": "ca399f4b",
   "metadata": {},
   "outputs": [],
   "source": [
    "plot_histograms(infection_counts, OUTPUT_BASE_DIR, OUTPUT_PREFIX)"
   ]
  },
  {
   "cell_type": "code",
   "execution_count": null,
   "id": "299deff4",
   "metadata": {},
   "outputs": [],
   "source": [
    "means, means_latex = generate_means_tables(\n",
    "    infection_counts, R,\n",
    "    caption=r'Average number of workers infected and average first period in which a case is detected for each intervention considered in stage one, for the Data61 office in Eveleigh. The averages are taken over the simulations used to generate the histograms shown in Figures~\\ref{fig:eveleigh:stage_1_comparison_delta_number_infected} and~\\ref{fig:eveleigh:stage_1_comparisondelta_period_finished}.',\n",
    "    label='tab:eveleigh:stage1_delta_means')\n",
    "\n",
    "with open(opath('means.tex'), 'w') as outf: outf.write(means_latex)\n",
    "print(means)"
   ]
  }
 ],
 "metadata": {
  "kernelspec": {
   "display_name": "Python 3 (ipykernel)",
   "language": "python",
   "name": "python3"
  },
  "language_info": {
   "codemirror_mode": {
    "name": "ipython",
    "version": 3
   },
   "file_extension": ".py",
   "mimetype": "text/x-python",
   "name": "python",
   "nbconvert_exporter": "python",
   "pygments_lexer": "ipython3",
   "version": "3.9.4"
  }
 },
 "nbformat": 4,
 "nbformat_minor": 5
}
