{
 "cells": [
  {
   "cell_type": "markdown",
   "id": "b3e00217",
   "metadata": {},
   "source": [
    "# A Set of Analyses for Questacon"
   ]
  },
  {
   "cell_type": "markdown",
   "id": "86265efd",
   "metadata": {},
   "source": [
    "## Imports"
   ]
  },
  {
   "cell_type": "code",
   "execution_count": null,
   "id": "ebd5b8c6",
   "metadata": {},
   "outputs": [],
   "source": [
    "import os\n",
    "import pickle\n",
    "from math import floor\n",
    "from itertools import repeat\n",
    "from multiprocessing import Pool\n",
    "import numpy as np\n",
    "import pandas as pd\n",
    "import matplotlib.pyplot as plt\n",
    "from tqdm.notebook import tqdm\n",
    "from apsrm import PCRTest, Person, Box\n",
    "from apsrm.config import POOL_NCORES, DEFAULT_STRAIN\n",
    "from apsrm.ext.multiprocessing import ProcessSeeder\n",
    "from apsrm.ext.simulation import create_pathogen\n",
    "from apsrm.ext.plot import (\n",
    "    shedding_plot,\n",
    "    extract_plot_data,\n",
    "    plot_concentrations)\n",
    "from utils import (\n",
    "    BOX,\n",
    "    BOX_NAME_TO_BOX_ENUM,\n",
    "    HUMAN_BOX_TYPES,\n",
    "    VisitGenerator,\n",
    "    create_workplace,\n",
    "    create_emissions_calculator,\n",
    "    generate_visitors_for_period)"
   ]
  },
  {
   "cell_type": "markdown",
   "id": "d636a804",
   "metadata": {},
   "source": [
    "## Params and Functions"
   ]
  },
  {
   "cell_type": "code",
   "execution_count": null,
   "id": "777c8e0e",
   "metadata": {},
   "outputs": [],
   "source": [
    "pathogen_name = DEFAULT_STRAIN\n",
    "bau_n_visitors = 1400\n",
    "limited_n_visitors = 350\n",
    "\n",
    "OUTPUT_BASE_DIR = '../../outputs/questacon'\n",
    "def opath(p):\n",
    "    output_base_dir = OUTPUT_BASE_DIR if os.path.exists(OUTPUT_BASE_DIR) else '.'\n",
    "    return os.path.join(output_base_dir, 'interventions_{}_{}'.format(pathogen_name, p))\n",
    "\n",
    "results_pickle = os.path.join(OUTPUT_BASE_DIR, 'all_results.pkl')\n",
    "run_analysis = not os.path.exists(results_pickle)\n",
    "\n",
    "def runner(r,\n",
    "        n_visitors = bau_n_visitors,\n",
    "        n_visitors_to_infect = 28,\n",
    "        n_staff_to_infect = 0,\n",
    "        boxes_to_drop = None,\n",
    "        ban_eating_in_foyer = False,\n",
    "        extract_boxes = False,\n",
    "        extract_concentrations = False,\n",
    "        extract_expected_infections = True,\n",
    "        jp_seats = 120):\n",
    "\n",
    "    assert n_visitors_to_infect <= n_visitors\n",
    "\n",
    "    workplace.reset(full=True)\n",
    "\n",
    "    # add some visitors\n",
    "    for visitor in generate_visitors_for_period(\n",
    "            n_visitors,\n",
    "            box_enum_to_box_map,\n",
    "            generators,\n",
    "            remaining_seats = jp_seats,\n",
    "            boxes_to_drop = boxes_to_drop,\n",
    "            ban_eating_in_foyer = ban_eating_in_foyer):\n",
    "        workplace.add_visitor(visitor)\n",
    "\n",
    "    # infect some people\n",
    "    workplace.infect_random_visitors(pathogen, time=-4, n=n_visitors_to_infect)\n",
    "    workplace.infect_random_persons(pathogen, time=-4, n=n_staff_to_infect)\n",
    "\n",
    "    # and run a day\n",
    "    workplace.run_period(0, pathogen, emissions_calculator)\n",
    "    \n",
    "    # extract and return results\n",
    "    res = extract_plot_data(\n",
    "        workplace = workplace,\n",
    "        human_box_types = HUMAN_BOX_TYPES,\n",
    "        extract_boxes = extract_boxes,\n",
    "        extract_concentrations = extract_concentrations,\n",
    "        extract_expected_infections = extract_expected_infections)\n",
    "    \n",
    "    res.update({\n",
    "        'n_infected': workplace.count_infected(include_visitors = True)\n",
    "    })\n",
    "    \n",
    "    return res"
   ]
  },
  {
   "cell_type": "markdown",
   "id": "36c9d7ac",
   "metadata": {},
   "source": [
    "## Basic Setup"
   ]
  },
  {
   "cell_type": "code",
   "execution_count": null,
   "id": "e4a00b6d",
   "metadata": {},
   "outputs": [],
   "source": [
    "workplace, box_enum_to_box_map, _, _, _ = create_workplace()\n",
    "pathogen = create_pathogen(pathogen_name)\n",
    "emissions_calculator = create_emissions_calculator(pathogen)\n",
    "generators = [VisitGenerator()]"
   ]
  },
  {
   "cell_type": "code",
   "execution_count": null,
   "id": "55c907de",
   "metadata": {},
   "outputs": [],
   "source": [
    "import matplotlib.font_manager as font_manager\n",
    "\n",
    "# Add every font at the specified location\n",
    "font_dir = ['../fnt']\n",
    "for font in font_manager.findSystemFonts(font_dir):\n",
    "    font_manager.fontManager.addfont(font)\n",
    "\n",
    "# Set font family globally\n",
    "plt.rcParams['font.family'] = 'Palatino'"
   ]
  },
  {
   "cell_type": "markdown",
   "id": "64a555b5",
   "metadata": {},
   "source": [
    "## Summarise a Single Day"
   ]
  },
  {
   "cell_type": "code",
   "execution_count": null,
   "id": "bce7ed65",
   "metadata": {},
   "outputs": [],
   "source": [
    "plot_data = runner(None, n_staff_to_infect = 1)\n",
    "shedding_plot(\n",
    "    workplace,\n",
    "    opath('shedding.pdf'),\n",
    "    human_box_types = HUMAN_BOX_TYPES,\n",
    "    panel_height = 3.7,\n",
    "    show_expected_infections = True)"
   ]
  },
  {
   "cell_type": "markdown",
   "id": "c896cb32",
   "metadata": {},
   "source": [
    "## Run Lots of Days"
   ]
  },
  {
   "cell_type": "code",
   "execution_count": null,
   "id": "dbfad6ac",
   "metadata": {},
   "outputs": [],
   "source": [
    "R = 10000\n",
    "process_seeder = ProcessSeeder()\n",
    "\n",
    "def run_job(workplace, runner, R, scenario, post_reset=None, **kwargs):\n",
    "    if run_analysis:\n",
    "        process_seeder.reset()\n",
    "        workplace.reset(full=True)\n",
    "        if post_reset is not None:\n",
    "            post_reset(workplace)\n",
    "        with Pool(POOL_NCORES, initializer=process_seeder) as pool:\n",
    "            work = pool.imap_unordered(runner, range(R))\n",
    "            return [o for o in tqdm(work, total=R)], scenario"
   ]
  },
  {
   "cell_type": "markdown",
   "id": "1e95a75f",
   "metadata": {},
   "source": [
    "### BAU"
   ]
  },
  {
   "cell_type": "code",
   "execution_count": null,
   "id": "b73a286a",
   "metadata": {
    "scrolled": false
   },
   "outputs": [],
   "source": [
    "outputs_bau = run_job(workplace, runner, R, 'BAU')"
   ]
  },
  {
   "cell_type": "markdown",
   "id": "6700f9e3",
   "metadata": {},
   "source": [
    "### Close Mini-Q (Gallery 6)"
   ]
  },
  {
   "cell_type": "code",
   "execution_count": null,
   "id": "ecc667f4",
   "metadata": {},
   "outputs": [],
   "source": [
    "def drop_G6_runner(i):\n",
    "    return runner(i, boxes_to_drop = [BOX.G6])\n",
    "outputs_drop_G6 = run_job(workplace, drop_G6_runner, R, \"Close Mini Q\")"
   ]
  },
  {
   "cell_type": "markdown",
   "id": "05920c02",
   "metadata": {},
   "source": [
    "### Ban Eating in Foyer"
   ]
  },
  {
   "cell_type": "code",
   "execution_count": null,
   "id": "9cab11e4",
   "metadata": {},
   "outputs": [],
   "source": [
    "def ban_eating_in_foyer_runner(i):\n",
    "    return runner(i, ban_eating_in_foyer = True)\n",
    "outputs_ban_eating_in_foyer = run_job(workplace, ban_eating_in_foyer_runner, R, \"Ban Eating Indoors\")"
   ]
  },
  {
   "cell_type": "markdown",
   "id": "8663aed6",
   "metadata": {},
   "source": [
    "### Ban Eating in Foyer and Close Mini-Q"
   ]
  },
  {
   "cell_type": "code",
   "execution_count": null,
   "id": "fa934f72",
   "metadata": {},
   "outputs": [],
   "source": [
    "def ban_eating_and_G6_runner(i):\n",
    "    return runner(i,\n",
    "        ban_eating_in_foyer = True,\n",
    "        boxes_to_drop = [BOX.G6])\n",
    "outputs_ban_eating_and_G6 = run_job(\n",
    "    workplace,\n",
    "    ban_eating_and_G6_runner,\n",
    "    R,\n",
    "    \"Ban Eating Indoors and Close Mini Q\")"
   ]
  },
  {
   "cell_type": "markdown",
   "id": "f8645c32",
   "metadata": {},
   "source": [
    "### Reduced Visitor Numbers"
   ]
  },
  {
   "cell_type": "code",
   "execution_count": null,
   "id": "1c01f205",
   "metadata": {},
   "outputs": [],
   "source": [
    "def limit_visitors_runner(i):\n",
    "    return runner(i,\n",
    "        n_visitors = limited_n_visitors,\n",
    "        jp_seats = 77)\n",
    "outputs_reduced_visitors = run_job(\n",
    "    workplace,\n",
    "    limit_visitors_runner,\n",
    "    R, \"{} Visitors per Day\".format(limited_n_visitors))"
   ]
  },
  {
   "cell_type": "markdown",
   "id": "d6f78c36",
   "metadata": {},
   "source": [
    "### Reflect the Existing HVAC Filters"
   ]
  },
  {
   "cell_type": "code",
   "execution_count": null,
   "id": "1c73b8cd",
   "metadata": {
    "scrolled": true
   },
   "outputs": [],
   "source": [
    "workplace, box_enum_to_box_map, _, _, _ = create_workplace(hvac_return_filtering_efficiency = .85)\n",
    "outputs_hvac_filter = run_job(workplace, runner, R, \"Existing HVAC Filters\")"
   ]
  },
  {
   "cell_type": "markdown",
   "id": "a60bde86",
   "metadata": {},
   "source": [
    "### Reflect the Existing HVAC Filters,  Masks and Ban Eating in Foyer"
   ]
  },
  {
   "cell_type": "code",
   "execution_count": null,
   "id": "d2a4590a",
   "metadata": {},
   "outputs": [],
   "source": [
    "Person.ingestion_filter_efficiency = .5\n",
    "Person.shedding_filter_efficiency = .5\n",
    "outputs_hvac_filter_and_masks = run_job(\n",
    "    workplace,\n",
    "    ban_eating_in_foyer_runner,\n",
    "    R,\n",
    "    \"Existing HVAC Filters, Ban Eating Indoors, and Masks\")"
   ]
  },
  {
   "cell_type": "markdown",
   "id": "183a0d9d",
   "metadata": {},
   "source": [
    "### Reflect the Existing HVAC Filters, Masks, Ban Eating in Foyer and Limited Visitors"
   ]
  },
  {
   "cell_type": "code",
   "execution_count": null,
   "id": "366d2ce2",
   "metadata": {},
   "outputs": [],
   "source": [
    "def ban_eating_in_foyer_and_limit_visitors_runner(i):\n",
    "    return runner(i,\n",
    "        ban_eating_in_foyer = True,\n",
    "        n_visitors = limited_n_visitors,\n",
    "        jp_seats = 77)\n",
    "outputs_hvac_filter_masks_limit_visitors_ban_eating = run_job(\n",
    "    workplace,\n",
    "    ban_eating_in_foyer_and_limit_visitors_runner,\n",
    "    R,\n",
    "    \"Existing HVAC Filters, Masks, Ban Eating Indoors, and Reduced Visitors\")"
   ]
  },
  {
   "cell_type": "markdown",
   "id": "4c02c453",
   "metadata": {},
   "source": [
    "### Infect One Worker"
   ]
  },
  {
   "cell_type": "code",
   "execution_count": null,
   "id": "a9fd73b1",
   "metadata": {},
   "outputs": [],
   "source": [
    "workplace, box_enum_to_box_map, _, _, _ = create_workplace()\n",
    "Person.ingestion_filter_efficiency = 0.\n",
    "Person.shedding_filter_efficiency = 0.\n",
    "def infect_a_worker_runner(i):\n",
    "    return runner(i, n_visitors_to_infect = 27, n_staff_to_infect = 1)\n",
    "outputs_infect_a_worker = run_job(workplace, infect_a_worker_runner, R, \"Infected Staff Member\")"
   ]
  },
  {
   "cell_type": "markdown",
   "id": "7afc88a4",
   "metadata": {},
   "source": [
    "## Combine Results"
   ]
  },
  {
   "cell_type": "code",
   "execution_count": null,
   "id": "6d44513f",
   "metadata": {},
   "outputs": [],
   "source": [
    "if run_analysis:        \n",
    "    all_results = (\n",
    "        outputs_bau,\n",
    "        outputs_drop_G6,\n",
    "        outputs_ban_eating_in_foyer,\n",
    "        outputs_ban_eating_and_G6,\n",
    "        outputs_reduced_visitors,\n",
    "        outputs_hvac_filter,\n",
    "        outputs_hvac_filter_and_masks,\n",
    "        outputs_hvac_filter_masks_limit_visitors_ban_eating,\n",
    "        outputs_infect_a_worker)\n",
    "    \n",
    "    with open(results_pickle, 'wb') as pkl:\n",
    "        pickle.dump((all_results, R), pkl)\n",
    "        \n",
    "else:\n",
    "    with open(results_pickle, 'rb') as pkl:\n",
    "        all_results, R = pickle.load(pkl)"
   ]
  },
  {
   "cell_type": "markdown",
   "id": "58dd752e",
   "metadata": {},
   "source": [
    "## Plots and Tables"
   ]
  },
  {
   "cell_type": "markdown",
   "id": "d0811dda",
   "metadata": {},
   "source": [
    "### Histograms\n",
    "\n",
    "Unused because the infection numbers are so low, they did not help distinguish between the scenarios."
   ]
  },
  {
   "cell_type": "code",
   "execution_count": null,
   "id": "0a026b12",
   "metadata": {},
   "outputs": [],
   "source": [
    "def plot_histograms_for_output(ax, outputs):\n",
    "    n_infected = np.array([o['n_infected'] for o in outputs])\n",
    "    ax.set_title('Histogram of Number of Infections')\n",
    "    _ = ax.hist(\n",
    "        n_infected,\n",
    "        bins = range(max(n_infected)+2),\n",
    "        align = 'left')\n",
    "    ax.set_xticks(range(max(n_infected)+1))\n",
    "    plt.savefig(opath('histograms_of_number_of_infections.pdf'), bbox_inches='tight')\n",
    "    return n_infected"
   ]
  },
  {
   "cell_type": "markdown",
   "id": "52d0f944",
   "metadata": {},
   "source": [
    "### Boxplots"
   ]
  },
  {
   "cell_type": "code",
   "execution_count": null,
   "id": "585ce63d",
   "metadata": {},
   "outputs": [],
   "source": [
    "def plot_boxplots_for_output(ax, outputs, ymax = None,\n",
    "        show_x_labels = True,\n",
    "        show_y_labels = True):\n",
    "    outputs, name = outputs\n",
    "    box_risks = np.array([o['box_risks'] for o in outputs])\n",
    "    box_names = outputs[0]['box_names']\n",
    "    ax.set_title(name)\n",
    "    if show_y_labels:\n",
    "        ax.set(ylabel='Number of Infections')\n",
    "    if ymax is not None:\n",
    "        ax.set_ylim((-.02, ymax))\n",
    "    if show_x_labels:\n",
    "        bpd = ax.boxplot(box_risks, labels = box_names)\n",
    "        ax.tick_params(axis='x', rotation=60)\n",
    "    else:\n",
    "        bpd = ax.boxplot(box_risks)\n",
    "        ax.get_xaxis().set_visible(False)\n",
    "\n",
    "def plot_boxplots(all_outputs):\n",
    "    ymax = max(max(o['box_risks']) for outputs in all_outputs for o in outputs[0]) * 1.05\n",
    "    n_plots = len(all_outputs)\n",
    "    fig, axs = plt.subplots(n_plots, figsize=(9., n_plots * 9./10*1.75))\n",
    "    fig.tight_layout()\n",
    "    for i, (ax, outputs) in enumerate(zip(axs, all_outputs)):\n",
    "        plot_boxplots_for_output(ax, outputs, ymax,\n",
    "        show_x_labels = i == n_plots-1,\n",
    "        show_y_labels = i == 0)\n",
    "    plt.savefig(opath('boxplots_expected_infections.pdf'), bbox_inches='tight')\n",
    "    plt.show()"
   ]
  },
  {
   "cell_type": "code",
   "execution_count": null,
   "id": "f50e0693",
   "metadata": {},
   "outputs": [],
   "source": [
    "plot_boxplots(all_results)"
   ]
  },
  {
   "cell_type": "markdown",
   "id": "ced19b82",
   "metadata": {},
   "source": [
    "### Results Table"
   ]
  },
  {
   "cell_type": "code",
   "execution_count": null,
   "id": "0abe94e7",
   "metadata": {},
   "outputs": [],
   "source": [
    "aves = [(outputs[1], np.mean([o['n_infected'] for o in outputs[0]])) for outputs in all_results]\n",
    "means = pd.DataFrame({'scenario': [a[0] for a in aves], 'mean': [a[1] for a in aves]})\n",
    "with pd.option_context(\"max_colwidth\", 1000):\n",
    "    means_latex = means.to_latex(\n",
    "        header=['Scenario', 'Average Number Infected'],\n",
    "        index = False,\n",
    "        float_format='%0.2f',\n",
    "        caption=r'Average number of infections under the BAU and for each intervention.',\n",
    "        label='tab:questacon:interventions_mean_number_of_infections',\n",
    "        position='htbp')\n",
    "with open(opath('means.tex'), 'w') as outf: outf.write(means_latex)\n",
    "print(means)"
   ]
  }
 ],
 "metadata": {
  "kernelspec": {
   "display_name": "Python 3 (ipykernel)",
   "language": "python",
   "name": "python3"
  },
  "language_info": {
   "codemirror_mode": {
    "name": "ipython",
    "version": 3
   },
   "file_extension": ".py",
   "mimetype": "text/x-python",
   "name": "python",
   "nbconvert_exporter": "python",
   "pygments_lexer": "ipython3",
   "version": "3.9.4"
  }
 },
 "nbformat": 4,
 "nbformat_minor": 5
}
